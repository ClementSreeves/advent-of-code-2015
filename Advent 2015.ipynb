{
 "cells": [
  {
   "cell_type": "code",
   "execution_count": 83,
   "metadata": {},
   "outputs": [],
   "source": [
    "from itertools import combinations\n",
    "import re"
   ]
  },
  {
   "cell_type": "code",
   "execution_count": 2,
   "metadata": {},
   "outputs": [],
   "source": [
    "def read_input(day):\n",
    "    with open(f'Inputs/input{day}') as f:\n",
    "        return f.read()"
   ]
  },
  {
   "cell_type": "code",
   "execution_count": 49,
   "metadata": {},
   "outputs": [],
   "source": [
    "class coordinate(tuple):\n",
    "    def __add__(self, other):\n",
    "        if len(self) != len(other):\n",
    "            raise ValueError('Sequences must have the same length')\n",
    "        return coordinate(self[i] + other[i] for i in range(len(self)))"
   ]
  },
  {
   "cell_type": "markdown",
   "metadata": {},
   "source": [
    "## Day 1"
   ]
  },
  {
   "cell_type": "code",
   "execution_count": 5,
   "metadata": {},
   "outputs": [],
   "source": [
    "instructions = read_input(1)\n",
    "symbol_map = {'(': 1, \n",
    "              ')': -1}"
   ]
  },
  {
   "cell_type": "code",
   "execution_count": 6,
   "metadata": {},
   "outputs": [
    {
     "data": {
      "text/plain": [
       "74"
      ]
     },
     "execution_count": 6,
     "metadata": {},
     "output_type": "execute_result"
    }
   ],
   "source": [
    "# Part 1\n",
    "sum([symbol_map[i] for i in instructions])"
   ]
  },
  {
   "cell_type": "code",
   "execution_count": 7,
   "metadata": {},
   "outputs": [
    {
     "name": "stdout",
     "output_type": "stream",
     "text": [
      "1795\n"
     ]
    }
   ],
   "source": [
    "# Part 2\n",
    "floor = 0\n",
    "for n, instruction in enumerate(instructions):\n",
    "    floor += symbol_map[instruction]\n",
    "    if floor == -1:\n",
    "        print(n + 1)\n",
    "        break"
   ]
  },
  {
   "cell_type": "markdown",
   "metadata": {},
   "source": [
    "## Day 2"
   ]
  },
  {
   "cell_type": "code",
   "execution_count": 9,
   "metadata": {},
   "outputs": [
    {
     "data": {
      "text/plain": [
       "['29x13x26', '11x11x14', '27x2x5', '6x10x13', '15x19x10']"
      ]
     },
     "execution_count": 9,
     "metadata": {},
     "output_type": "execute_result"
    }
   ],
   "source": [
    "sizes = read_input(2).split()\n",
    "sizes[:5]"
   ]
  },
  {
   "cell_type": "code",
   "execution_count": 10,
   "metadata": {},
   "outputs": [
    {
     "data": {
      "text/plain": [
       "[(29, 13, 26), (11, 11, 14), (27, 2, 5), (6, 10, 13), (15, 19, 10)]"
      ]
     },
     "execution_count": 10,
     "metadata": {},
     "output_type": "execute_result"
    }
   ],
   "source": [
    "sizes = [tuple([int(d) for d in size.split('x')]) for size in sizes]\n",
    "sizes[:5]"
   ]
  },
  {
   "cell_type": "code",
   "execution_count": 25,
   "metadata": {},
   "outputs": [],
   "source": [
    "def wrapping_size(dims):\n",
    "    sides = [d1*d2 for d1,d2 in combinations(dims, 2)]\n",
    "    return sum(2*sides) + min(sides)\n",
    "\n",
    "assert(wrapping_size((2,3,4)) == 58)\n",
    "assert(wrapping_size((1,1,10)) == 43)"
   ]
  },
  {
   "cell_type": "code",
   "execution_count": 26,
   "metadata": {},
   "outputs": [
    {
     "data": {
      "text/plain": [
       "1586300"
      ]
     },
     "execution_count": 26,
     "metadata": {},
     "output_type": "execute_result"
    }
   ],
   "source": [
    "sum([wrapping_size(dims) for dims in sizes])"
   ]
  },
  {
   "cell_type": "code",
   "execution_count": 27,
   "metadata": {},
   "outputs": [],
   "source": [
    "def ribbon_size(dims):\n",
    "    perimeters = [2*d1 + 2*d2 for d1,d2 in combinations(dims, 2)]\n",
    "    return dims[0]*dims[1]*dims[2] + min(perimeters)\n",
    "\n",
    "assert(ribbon_size((2,3,4)) == 34)\n",
    "assert(ribbon_size((1,1,10)) == 14)"
   ]
  },
  {
   "cell_type": "code",
   "execution_count": 28,
   "metadata": {},
   "outputs": [
    {
     "data": {
      "text/plain": [
       "3737498"
      ]
     },
     "execution_count": 28,
     "metadata": {},
     "output_type": "execute_result"
    }
   ],
   "source": [
    "sum([ribbon_size(dims) for dims in sizes])"
   ]
  },
  {
   "cell_type": "markdown",
   "metadata": {},
   "source": [
    "## Day 3"
   ]
  },
  {
   "cell_type": "code",
   "execution_count": 54,
   "metadata": {},
   "outputs": [
    {
     "data": {
      "text/plain": [
       "'^^<<v<<v><v^^<><>^^<'"
      ]
     },
     "execution_count": 54,
     "metadata": {},
     "output_type": "execute_result"
    }
   ],
   "source": [
    "instructions = read_input(3)\n",
    "instructions[:20]"
   ]
  },
  {
   "cell_type": "code",
   "execution_count": 32,
   "metadata": {},
   "outputs": [],
   "source": [
    "symbol_map = {'^': (0,1),\n",
    "              '<': (-1,0),\n",
    "              '>': (1,0),\n",
    "              'v': (0,-1)}"
   ]
  },
  {
   "cell_type": "code",
   "execution_count": 63,
   "metadata": {},
   "outputs": [],
   "source": [
    "def houses_visited(instructions, start_loc=(0,0)):\n",
    "    current_loc = coordinate(start_loc)\n",
    "    visited = {current_loc}\n",
    "    for symbol in instructions:\n",
    "        current_loc += symbol_map[symbol]\n",
    "        visited.add(current_loc)\n",
    "    return visited\n",
    "\n",
    "assert(len(houses_visited('>')) == 2)\n",
    "assert(len(houses_visited('^>v<')) == 4)\n",
    "assert(len(houses_visited('^v^v^v^v^v')) == 2)"
   ]
  },
  {
   "cell_type": "code",
   "execution_count": 64,
   "metadata": {},
   "outputs": [
    {
     "data": {
      "text/plain": [
       "2565"
      ]
     },
     "execution_count": 64,
     "metadata": {},
     "output_type": "execute_result"
    }
   ],
   "source": [
    "len(houses_visited(instructions))"
   ]
  },
  {
   "cell_type": "code",
   "execution_count": 65,
   "metadata": {},
   "outputs": [
    {
     "data": {
      "text/plain": [
       "('^<v<>v^>>^vv>^^<>^v<', '^<<v<^<<^<<^>^>^v>>>')"
      ]
     },
     "execution_count": 65,
     "metadata": {},
     "output_type": "execute_result"
    }
   ],
   "source": [
    "santa_instructions, robo_instructions = instructions[::2], instructions[1::2]\n",
    "santa_instructions[:20], robo_instructions[:20]"
   ]
  },
  {
   "cell_type": "code",
   "execution_count": 72,
   "metadata": {},
   "outputs": [
    {
     "data": {
      "text/plain": [
       "2639"
      ]
     },
     "execution_count": 72,
     "metadata": {},
     "output_type": "execute_result"
    }
   ],
   "source": [
    "len(houses_visited(santa_instructions).union(houses_visited(robo_instructions)))"
   ]
  },
  {
   "cell_type": "markdown",
   "metadata": {},
   "source": [
    "## Day 4"
   ]
  },
  {
   "cell_type": "code",
   "execution_count": 8,
   "metadata": {},
   "outputs": [],
   "source": [
    "import hashlib"
   ]
  },
  {
   "cell_type": "code",
   "execution_count": 15,
   "metadata": {},
   "outputs": [
    {
     "data": {
      "text/plain": [
       "'000001dbbfa3a5c83a2d506429c7b00e'"
      ]
     },
     "execution_count": 15,
     "metadata": {},
     "output_type": "execute_result"
    }
   ],
   "source": [
    "hashlib.md5(b'abcdef609043').hexdigest()"
   ]
  },
  {
   "cell_type": "code",
   "execution_count": 20,
   "metadata": {},
   "outputs": [],
   "source": [
    "def mine(difficulty, key='ckczppom'):\n",
    "    s = ''\n",
    "    i = 0\n",
    "    while not s.startswith('0' * difficulty):\n",
    "        i += 1\n",
    "        b = bytes(f'{key}{i}', encoding='UTF-8')\n",
    "        s = hashlib.md5(b).hexdigest()\n",
    "    return i"
   ]
  },
  {
   "cell_type": "code",
   "execution_count": 21,
   "metadata": {},
   "outputs": [
    {
     "data": {
      "text/plain": [
       "117946"
      ]
     },
     "execution_count": 21,
     "metadata": {},
     "output_type": "execute_result"
    }
   ],
   "source": [
    "mine(5)"
   ]
  },
  {
   "cell_type": "code",
   "execution_count": 22,
   "metadata": {},
   "outputs": [
    {
     "data": {
      "text/plain": [
       "3938038"
      ]
     },
     "execution_count": 22,
     "metadata": {},
     "output_type": "execute_result"
    }
   ],
   "source": [
    "mine(6)"
   ]
  },
  {
   "cell_type": "markdown",
   "metadata": {},
   "source": [
    "## Day 5"
   ]
  },
  {
   "cell_type": "code",
   "execution_count": 76,
   "metadata": {},
   "outputs": [],
   "source": [
    "def has_vowels(s, n=3):\n",
    "    return sum([l in 'aeiou' for l in s]) >= n\n",
    "\n",
    "assert(has_vowels('aaa'))\n",
    "assert(has_vowels('hello world'))\n",
    "assert(not has_vowels('a'))\n",
    "\n",
    "def has_double(s):\n",
    "    for i in range(len(s)-1):\n",
    "        if s[i] == s[i+1]: return True\n",
    "    return False\n",
    "\n",
    "assert(has_double('aaa'))\n",
    "assert(has_double('hello world'))\n",
    "assert(not has_double('aeioua'))\n",
    "\n",
    "def has_disallowed(s, disallowed=['ab', 'cd', 'pq', 'xy']):\n",
    "    return any([d in s for d in disallowed])\n",
    "\n",
    "assert(has_disallowed('abc'))\n",
    "assert(not has_disallowed('hello world'))\n",
    "assert(not has_disallowed('aeioua'))"
   ]
  },
  {
   "cell_type": "code",
   "execution_count": 79,
   "metadata": {},
   "outputs": [],
   "source": [
    "def is_nice(s):\n",
    "    return has_vowels(s) and has_double(s) and not has_disallowed(s)\n",
    "\n",
    "assert(is_nice('ugknbfddgicrmopn'))\n",
    "assert(is_nice('aaa'))\n",
    "assert(not is_nice('jchzalrnumimnmhp'))\n",
    "assert(not is_nice('haegwjzuvuyypxyu'))\n",
    "assert(not is_nice('dvszwmarrgswjxmb'))"
   ]
  },
  {
   "cell_type": "code",
   "execution_count": 81,
   "metadata": {},
   "outputs": [
    {
     "data": {
      "text/plain": [
       "['sszojmmrrkwuftyv',\n",
       " 'isaljhemltsdzlum',\n",
       " 'fujcyucsrxgatisb',\n",
       " 'qiqqlmcgnhzparyg',\n",
       " 'oijbmduquhfactbc']"
      ]
     },
     "execution_count": 81,
     "metadata": {},
     "output_type": "execute_result"
    }
   ],
   "source": [
    "strings = read_input(5).split()\n",
    "strings[:5]"
   ]
  },
  {
   "cell_type": "code",
   "execution_count": 82,
   "metadata": {},
   "outputs": [
    {
     "data": {
      "text/plain": [
       "255"
      ]
     },
     "execution_count": 82,
     "metadata": {},
     "output_type": "execute_result"
    }
   ],
   "source": [
    "sum([is_nice(s) for s in strings])"
   ]
  },
  {
   "cell_type": "code",
   "execution_count": 85,
   "metadata": {},
   "outputs": [],
   "source": [
    "has_double_pair = re.compile(r'.*(..).*\\1').match\n",
    "\n",
    "assert(has_double_pair('xyxy'))\n",
    "assert(not has_double_pair('aaa'))"
   ]
  },
  {
   "cell_type": "code",
   "execution_count": 86,
   "metadata": {},
   "outputs": [],
   "source": [
    "has_letter_sandwich = re.compile(r'.*(.).\\1').match\n",
    "\n",
    "assert(has_letter_sandwich('xyxy'))\n",
    "assert(has_letter_sandwich('aaa'))"
   ]
  },
  {
   "cell_type": "code",
   "execution_count": 93,
   "metadata": {},
   "outputs": [],
   "source": [
    "def is_nice2(s):\n",
    "    return bool(has_double_pair(s) and has_letter_sandwich(s))\n",
    "\n",
    "assert(is_nice2('qjhvhtzxzqqjkmpb'))\n",
    "assert(is_nice2('xxyxx'))\n",
    "assert(not is_nice2('uurcxstgmygtbstg'))\n",
    "assert(not is_nice2('ieodomkazucvgmuy'))"
   ]
  },
  {
   "cell_type": "code",
   "execution_count": 94,
   "metadata": {},
   "outputs": [
    {
     "data": {
      "text/plain": [
       "55"
      ]
     },
     "execution_count": 94,
     "metadata": {},
     "output_type": "execute_result"
    }
   ],
   "source": [
    "sum([is_nice2(s) for s in strings])"
   ]
  }
 ],
 "metadata": {
  "kernelspec": {
   "display_name": "Python 3",
   "language": "python",
   "name": "python3"
  },
  "language_info": {
   "codemirror_mode": {
    "name": "ipython",
    "version": 3
   },
   "file_extension": ".py",
   "mimetype": "text/x-python",
   "name": "python",
   "nbconvert_exporter": "python",
   "pygments_lexer": "ipython3",
   "version": "3.6.6"
  }
 },
 "nbformat": 4,
 "nbformat_minor": 2
}
